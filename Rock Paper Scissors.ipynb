{
 "cells": [
  {
   "cell_type": "markdown",
   "id": "a6e0ac86",
   "metadata": {},
   "source": [
    "# ROCK PAPER SCISSORS "
   ]
  },
  {
   "cell_type": "markdown",
   "id": "231ed1b3",
   "metadata": {},
   "source": [
    "To create the Rock, Paper and Scissors game with Python, we need to take the user’s choice and then we need to compare it with the computer choice which is taken using the random module in Python from a list of choices, and if the user wins then the score will increase by 1"
   ]
  },
  {
   "cell_type": "markdown",
   "id": "1084c431",
   "metadata": {},
   "source": [
    "IMPORTANT\n",
    "\n",
    "The capitalize() method returns\n",
    "a copy of the original string and \n",
    "converts the first character of the string to a capital (uppercase) letter \n",
    "while making all other characters in the string lowercase letters."
   ]
  },
  {
   "cell_type": "code",
   "execution_count": null,
   "id": "b657d5ff",
   "metadata": {},
   "outputs": [],
   "source": [
    "import random\n",
    "\n",
    "choices = [\"Rock\", \"Paper\", \"Scissors\"] \n",
    "\n",
    "computer = random.choice(choices)\n",
    "player = False\n",
    "cpu_score = 0\n",
    "player_score = 0\n",
    " \n",
    "while True:\n",
    "    \n",
    "    player = input(\"Rock, Paper or  Scissors?\").capitalize()\n",
    "    \n",
    "    ## Conditions of Rock,Paper and Scissors\n",
    "    if player == computer:\n",
    "        print(\"Tie!\")\n",
    "        \n",
    "    elif player == \"Rock\":\n",
    "        \n",
    "        if computer == \"Paper\":\n",
    "            print(\"You lose!\", computer, \"covers\", player)\n",
    "            cpu_score+=1\n",
    "            \n",
    "        else:\n",
    "            print(\"You win!\", player, \"smashes\", computer)\n",
    "            player_score+=1\n",
    "            \n",
    "    elif player == \"Paper\":\n",
    "        \n",
    "        if computer == \"Scissors\":\n",
    "            print(\"You lose!\", computer, \"cut\", player)\n",
    "            cpu_score+=1\n",
    "            \n",
    "        else:\n",
    "            print(\"You win!\", player, \"covers\", computer)\n",
    "            player_score+=1\n",
    "            \n",
    "    elif player == \"Scissors\":\n",
    "        \n",
    "        if computer == \"Rock\":\n",
    "            print(\"You lose...\", computer, \"smashes\", player)\n",
    "            cpu_score+=1\n",
    "            \n",
    "        else:\n",
    "            print(\"You win!\", player, \"cut\", computer)\n",
    "            player_score+=1\n",
    "            \n",
    "    elif player=='End':\n",
    "        print(\"Final Scores:\")\n",
    "        print(f\"CPU:{cpu_score}\")\n",
    "        print(f\"Player:{player_score}\")\n",
    "        break"
   ]
  }
 ],
 "metadata": {
  "kernelspec": {
   "display_name": "Python 3",
   "language": "python",
   "name": "python3"
  },
  "language_info": {
   "codemirror_mode": {
    "name": "ipython",
    "version": 3
   },
   "file_extension": ".py",
   "mimetype": "text/x-python",
   "name": "python",
   "nbconvert_exporter": "python",
   "pygments_lexer": "ipython3",
   "version": "3.7.6"
  }
 },
 "nbformat": 4,
 "nbformat_minor": 5
}
